{
 "cells": [
  {
   "cell_type": "code",
   "execution_count": 1,
   "metadata": {
    "id": "n6dUckLof7v2"
   },
   "outputs": [],
   "source": [
    "import numpy as np\n",
    "import pandas as pd\n",
    "import xlrd as xl\n",
    "from xlutils.copy import copy"
   ]
  },
  {
   "cell_type": "code",
   "execution_count": 2,
   "metadata": {
    "id": "gVEJK5mGf7wG"
   },
   "outputs": [],
   "source": [
    "dfrr_norm = pd.read_excel(\"AWS2018_Norm_Jan.xls\")\n",
    "dfrr = pd.read_excel(\"AWS2018_Jan.xlsx\", usecols=\"C,D\")\n",
    "dfrr_def = pd.read_excel(\"AWS2018_Default_Jan.xlsx\", usecols=\"C\")"
   ]
  },
  {
   "cell_type": "code",
   "execution_count": 3,
   "metadata": {
    "colab": {
     "base_uri": "https://localhost:8080/",
     "height": 206
    },
    "id": "mDET7LXK464e",
    "outputId": "1335ba85-2569-461b-f3e0-b42e9b03fac6"
   },
   "outputs": [
    {
     "data": {
      "text/html": [
       "<div>\n",
       "<style scoped>\n",
       "    .dataframe tbody tr th:only-of-type {\n",
       "        vertical-align: middle;\n",
       "    }\n",
       "\n",
       "    .dataframe tbody tr th {\n",
       "        vertical-align: top;\n",
       "    }\n",
       "\n",
       "    .dataframe thead th {\n",
       "        text-align: right;\n",
       "    }\n",
       "</style>\n",
       "<table border=\"1\" class=\"dataframe\">\n",
       "  <thead>\n",
       "    <tr style=\"text-align: right;\">\n",
       "      <th></th>\n",
       "      <th>Date Time</th>\n",
       "      <th>RR</th>\n",
       "    </tr>\n",
       "  </thead>\n",
       "  <tbody>\n",
       "    <tr>\n",
       "      <th>4407</th>\n",
       "      <td>2018-01-31 23:10:00</td>\n",
       "      <td>32.2</td>\n",
       "    </tr>\n",
       "    <tr>\n",
       "      <th>4408</th>\n",
       "      <td>2018-01-31 23:20:00</td>\n",
       "      <td>32.2</td>\n",
       "    </tr>\n",
       "    <tr>\n",
       "      <th>4409</th>\n",
       "      <td>2018-01-31 23:30:00</td>\n",
       "      <td>32.2</td>\n",
       "    </tr>\n",
       "    <tr>\n",
       "      <th>4410</th>\n",
       "      <td>2018-01-31 23:40:00</td>\n",
       "      <td>32.2</td>\n",
       "    </tr>\n",
       "    <tr>\n",
       "      <th>4411</th>\n",
       "      <td>2018-01-31 23:50:00</td>\n",
       "      <td>32.2</td>\n",
       "    </tr>\n",
       "  </tbody>\n",
       "</table>\n",
       "</div>"
      ],
      "text/plain": [
       "               Date Time    RR\n",
       "4407 2018-01-31 23:10:00  32.2\n",
       "4408 2018-01-31 23:20:00  32.2\n",
       "4409 2018-01-31 23:30:00  32.2\n",
       "4410 2018-01-31 23:40:00  32.2\n",
       "4411 2018-01-31 23:50:00  32.2"
      ]
     },
     "execution_count": 3,
     "metadata": {},
     "output_type": "execute_result"
    }
   ],
   "source": [
    "dfrr.tail()"
   ]
  },
  {
   "cell_type": "code",
   "execution_count": 4,
   "metadata": {
    "colab": {
     "base_uri": "https://localhost:8080/",
     "height": 206
    },
    "id": "McI6738s65A0",
    "outputId": "5c8f979d-9cdf-4326-ba3a-55b72ba332d4"
   },
   "outputs": [
    {
     "data": {
      "text/html": [
       "<div>\n",
       "<style scoped>\n",
       "    .dataframe tbody tr th:only-of-type {\n",
       "        vertical-align: middle;\n",
       "    }\n",
       "\n",
       "    .dataframe tbody tr th {\n",
       "        vertical-align: top;\n",
       "    }\n",
       "\n",
       "    .dataframe thead th {\n",
       "        text-align: right;\n",
       "    }\n",
       "</style>\n",
       "<table border=\"1\" class=\"dataframe\">\n",
       "  <thead>\n",
       "    <tr style=\"text-align: right;\">\n",
       "      <th></th>\n",
       "      <th>id_record</th>\n",
       "      <th>ID Station</th>\n",
       "      <th>Date Time</th>\n",
       "      <th>RR</th>\n",
       "    </tr>\n",
       "  </thead>\n",
       "  <tbody>\n",
       "    <tr>\n",
       "      <th>4459</th>\n",
       "      <td>NaN</td>\n",
       "      <td>NaN</td>\n",
       "      <td>2018-01-31 23:10:00</td>\n",
       "      <td>32.2</td>\n",
       "    </tr>\n",
       "    <tr>\n",
       "      <th>4460</th>\n",
       "      <td>NaN</td>\n",
       "      <td>NaN</td>\n",
       "      <td>2018-01-31 23:20:00</td>\n",
       "      <td>32.2</td>\n",
       "    </tr>\n",
       "    <tr>\n",
       "      <th>4461</th>\n",
       "      <td>NaN</td>\n",
       "      <td>NaN</td>\n",
       "      <td>2018-01-31 23:30:00</td>\n",
       "      <td>32.2</td>\n",
       "    </tr>\n",
       "    <tr>\n",
       "      <th>4462</th>\n",
       "      <td>NaN</td>\n",
       "      <td>NaN</td>\n",
       "      <td>2018-01-31 23:40:00</td>\n",
       "      <td>32.2</td>\n",
       "    </tr>\n",
       "    <tr>\n",
       "      <th>4463</th>\n",
       "      <td>NaN</td>\n",
       "      <td>NaN</td>\n",
       "      <td>2018-01-31 23:50:00</td>\n",
       "      <td>32.2</td>\n",
       "    </tr>\n",
       "  </tbody>\n",
       "</table>\n",
       "</div>"
      ],
      "text/plain": [
       "     id_record ID Station           Date Time    RR\n",
       "4459       NaN        NaN 2018-01-31 23:10:00  32.2\n",
       "4460       NaN        NaN 2018-01-31 23:20:00  32.2\n",
       "4461       NaN        NaN 2018-01-31 23:30:00  32.2\n",
       "4462       NaN        NaN 2018-01-31 23:40:00  32.2\n",
       "4463       NaN        NaN 2018-01-31 23:50:00  32.2"
      ]
     },
     "execution_count": 4,
     "metadata": {},
     "output_type": "execute_result"
    }
   ],
   "source": [
    "dfrr_norm.tail()"
   ]
  },
  {
   "cell_type": "code",
   "execution_count": 5,
   "metadata": {},
   "outputs": [],
   "source": [
    "dfrr_norm = dfrr_norm.drop(\"RR\", axis=1)"
   ]
  },
  {
   "cell_type": "code",
   "execution_count": 6,
   "metadata": {},
   "outputs": [
    {
     "data": {
      "text/html": [
       "<div>\n",
       "<style scoped>\n",
       "    .dataframe tbody tr th:only-of-type {\n",
       "        vertical-align: middle;\n",
       "    }\n",
       "\n",
       "    .dataframe tbody tr th {\n",
       "        vertical-align: top;\n",
       "    }\n",
       "\n",
       "    .dataframe thead th {\n",
       "        text-align: right;\n",
       "    }\n",
       "</style>\n",
       "<table border=\"1\" class=\"dataframe\">\n",
       "  <thead>\n",
       "    <tr style=\"text-align: right;\">\n",
       "      <th></th>\n",
       "      <th>id_record</th>\n",
       "      <th>ID Station</th>\n",
       "      <th>Date Time</th>\n",
       "    </tr>\n",
       "  </thead>\n",
       "  <tbody>\n",
       "    <tr>\n",
       "      <th>0</th>\n",
       "      <td>STA2079 2018-01-01 00:00:00</td>\n",
       "      <td>STA2079</td>\n",
       "      <td>2018-01-01 00:00:00</td>\n",
       "    </tr>\n",
       "    <tr>\n",
       "      <th>1</th>\n",
       "      <td>STA2079 2018-01-01 00:10:00</td>\n",
       "      <td>STA2079</td>\n",
       "      <td>2018-01-01 00:10:00</td>\n",
       "    </tr>\n",
       "    <tr>\n",
       "      <th>2</th>\n",
       "      <td>STA2079 2018-01-01 00:20:00</td>\n",
       "      <td>STA2079</td>\n",
       "      <td>2018-01-01 00:20:00</td>\n",
       "    </tr>\n",
       "    <tr>\n",
       "      <th>3</th>\n",
       "      <td>STA2079 2018-01-01 00:30:00</td>\n",
       "      <td>STA2079</td>\n",
       "      <td>2018-01-01 00:30:00</td>\n",
       "    </tr>\n",
       "    <tr>\n",
       "      <th>4</th>\n",
       "      <td>STA2079 2018-01-01 00:40:00</td>\n",
       "      <td>STA2079</td>\n",
       "      <td>2018-01-01 00:40:00</td>\n",
       "    </tr>\n",
       "  </tbody>\n",
       "</table>\n",
       "</div>"
      ],
      "text/plain": [
       "                     id_record ID Station           Date Time\n",
       "0  STA2079 2018-01-01 00:00:00    STA2079 2018-01-01 00:00:00\n",
       "1  STA2079 2018-01-01 00:10:00    STA2079 2018-01-01 00:10:00\n",
       "2  STA2079 2018-01-01 00:20:00    STA2079 2018-01-01 00:20:00\n",
       "3  STA2079 2018-01-01 00:30:00    STA2079 2018-01-01 00:30:00\n",
       "4  STA2079 2018-01-01 00:40:00    STA2079 2018-01-01 00:40:00"
      ]
     },
     "execution_count": 6,
     "metadata": {},
     "output_type": "execute_result"
    }
   ],
   "source": [
    "dfrr_norm.head()"
   ]
  },
  {
   "cell_type": "code",
   "execution_count": 7,
   "metadata": {},
   "outputs": [],
   "source": [
    "workbook = xl.open_workbook('AWS2018_Norm_Jan.xls')\n",
    "sheet = workbook.sheet_by_index(0)\n",
    "wb = copy(workbook)\n",
    "sheet = wb.get_sheet(0)\n",
    "\n",
    "for i in range(0,len(dfrr)):\n",
    "    for j in range(0,len(dfrr_def)):\n",
    "        if(dfrr[\"Date Time\"][i] == dfrr_def[\"Date Time\"][j]):\n",
    "            add=str(dfrr[\"RR\"][i])\n",
    "            sheet.write(j+1,3,add)\n",
    "            break\n",
    "wb.save(\"AWS2018_Norm_Jan.xls\")"
   ]
  },
  {
   "cell_type": "code",
   "execution_count": 8,
   "metadata": {},
   "outputs": [
    {
     "name": "stdout",
     "output_type": "stream",
     "text": [
      "2018-01-02 01:50:00\n",
      "2018-01-02 03:00:00\n",
      "2018-01-02 23:20:00\n",
      "2018-01-06 04:10:00\n",
      "2018-01-06 12:10:00\n",
      "2018-01-06 12:20:00\n",
      "2018-01-06 12:30:00\n",
      "2018-01-07 04:20:00\n",
      "2018-01-08 07:10:00\n",
      "2018-01-08 12:10:00\n",
      "2018-01-11 12:10:00\n",
      "2018-01-12 00:20:00\n",
      "2018-01-12 04:10:00\n",
      "2018-01-12 04:20:00\n",
      "2018-01-12 04:30:00\n",
      "2018-01-12 04:40:00\n",
      "2018-01-12 04:50:00\n",
      "2018-01-12 05:00:00\n",
      "2018-01-12 05:10:00\n",
      "2018-01-14 12:10:00\n",
      "2018-01-15 04:50:00\n",
      "2018-01-19 01:50:00\n",
      "2018-01-19 03:10:00\n",
      "2018-01-19 04:10:00\n",
      "2018-01-19 04:20:00\n",
      "2018-01-19 04:30:00\n",
      "2018-01-19 04:40:00\n",
      "2018-01-19 04:50:00\n",
      "2018-01-19 05:00:00\n",
      "2018-01-19 05:10:00\n",
      "2018-01-24 02:30:00\n",
      "2018-01-24 04:00:00\n",
      "2018-01-24 04:10:00\n",
      "2018-01-24 05:00:00\n",
      "2018-01-24 17:00:00\n",
      "2018-01-24 17:10:00\n",
      "2018-01-26 06:30:00\n",
      "2018-01-27 14:40:00\n",
      "2018-01-28 09:50:00\n",
      "2018-01-28 12:10:00\n",
      "2018-01-28 19:20:00\n",
      "2018-01-29 05:40:00\n",
      "2018-01-29 06:40:00\n",
      "2018-01-30 05:20:00\n",
      "2018-01-30 06:50:00\n",
      "2018-01-30 14:10:00\n",
      "2018-01-30 14:20:00\n",
      "2018-01-30 15:00:00\n",
      "2018-01-30 15:10:00\n",
      "2018-01-31 03:00:00\n",
      "2018-01-31 13:30:00\n",
      "2018-01-31 18:00:00\n"
     ]
    }
   ],
   "source": [
    "path=\"AWS2018_Norm_Jan.xls\"\n",
    "wb=xl.open_workbook(path)\n",
    "sheet=wb.sheet_by_index(0)\n",
    "colnum=3\n",
    "for column in range(colnum,sheet.ncols):\n",
    "    for row in range (sheet.nrows):\n",
    "        if(sheet.cell(row,column).value==\"\"):\n",
    "            print(dfrr_norm[\"Date Time\"][row-1])"
   ]
  },
  {
   "cell_type": "code",
   "execution_count": 13,
   "metadata": {},
   "outputs": [
    {
     "data": {
      "text/plain": [
       "'\\nx=[]\\ny=[]\\npath=\"AWS2018_Norm_Jan.xls\"\\nwb=xl.open_workbook(path)\\nsheet=wb.sheet_by_index(0)\\ncolnum=3\\nfor column in range(colnum,sheet.ncols):\\n    for row in range (sheet.nrows):\\n        if(sheet.cell(row,column).value==\"\"):\\n            temp=dfrr_norm[\"Date Time\"][row]\\n        if((dfrr_norm[\"Date Time\"][row]==dfrr_norm[\"Date Time\"][row+1])):\\n            time=+1\\n            print(time)\\n            time=0\\n        \\n            values_y=dfrr_norm[\"Date Time\"][row-1].day\\n            values_x=dfrr_norm[\"Date Time\"][row-1].hour\\n            x.append(values_x)\\n            y.append(values_y)\\n    \\nplt.rcParams[\"figure.figsize\"] = (30,5)\\nplt.bar(x,y)'"
      ]
     },
     "execution_count": 13,
     "metadata": {},
     "output_type": "execute_result"
    }
   ],
   "source": [
    "\"\"\"\n",
    "x=[]\n",
    "y=[]\n",
    "path=\"AWS2018_Norm_Jan.xls\"\n",
    "wb=xl.open_workbook(path)\n",
    "sheet=wb.sheet_by_index(0)\n",
    "colnum=3\n",
    "for column in range(colnum,sheet.ncols):\n",
    "    for row in range (sheet.nrows):\n",
    "        if(sheet.cell(row,column).value==\"\"):\n",
    "            temp=dfrr_norm[\"Date Time\"][row]\n",
    "        if((dfrr_norm[\"Date Time\"][row]==dfrr_norm[\"Date Time\"][row+1])):\n",
    "            time=+1\n",
    "            print(time)\n",
    "            time=0\n",
    "        \n",
    "            values_y=dfrr_norm[\"Date Time\"][row-1].day\n",
    "            values_x=dfrr_norm[\"Date Time\"][row-1].hour\n",
    "            x.append(values_x)\n",
    "            y.append(values_y)\n",
    "    \n",
    "plt.rcParams[\"figure.figsize\"] = (30,5)\n",
    "plt.bar(x,y)\"\"\""
   ]
  },
  {
   "cell_type": "code",
   "execution_count": null,
   "metadata": {
    "id": "OvJRjYwOf7wi"
   },
   "outputs": [],
   "source": [
    "\"\"\"\n",
    "if(dfrr[\"Date Time\"][i]==dfrr_def[\"Date Time\"][j]):\n",
    "    # Nama Kolom di Excel\n",
    "    sheet.write(i,2,\"Date Time\")\n",
    "    sheet.write(i,3,\"RR\")\n",
    "if(dfrr[\"Date Time\"][i] in dfrr_def[\"Date Time\"].unique()):\n",
    "    sheet.write(i+1,2,dfrr[\"Date Time\"][i].strftime(\"%d/%m/%Y %H:%M\"))\n",
    "    sheet.write(i+1,3,dfrr[\"RR\"][i])\n",
    "            \n",
    "df_norm = df_norm.drop(\"Date Time\", axis=1)\n",
    "df_norm = df_norm.drop(\"RR\", axis=1)\n",
    "df_norm.to_excel(\"test_norm.xls\",index=False)\n",
    "\"\"\""
   ]
  },
  {
   "cell_type": "code",
   "execution_count": null,
   "metadata": {
    "id": "PK2eFcwQqDkq"
   },
   "outputs": [],
   "source": []
  }
 ],
 "metadata": {
  "colab": {
   "collapsed_sections": [],
   "name": "Normalisasi.ipynb",
   "provenance": []
  },
  "kernelspec": {
   "display_name": "Python 3",
   "language": "python",
   "name": "python3"
  },
  "language_info": {
   "codemirror_mode": {
    "name": "ipython",
    "version": 3
   },
   "file_extension": ".py",
   "mimetype": "text/x-python",
   "name": "python",
   "nbconvert_exporter": "python",
   "pygments_lexer": "ipython3",
   "version": "3.8.5"
  }
 },
 "nbformat": 4,
 "nbformat_minor": 1
}
